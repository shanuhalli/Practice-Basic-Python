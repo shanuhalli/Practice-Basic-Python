{
 "cells": [
  {
   "cell_type": "markdown",
   "id": "e4df48f5",
   "metadata": {},
   "source": [
    "# Practice For Loop"
   ]
  },
  {
   "cell_type": "code",
   "execution_count": 6,
   "id": "1e3a5d0d",
   "metadata": {},
   "outputs": [
    {
     "name": "stdout",
     "output_type": "stream",
     "text": [
      "0\n",
      "1\n",
      "2\n",
      "3\n",
      "4\n",
      "5\n",
      "6\n",
      "7\n",
      "8\n",
      "9\n"
     ]
    }
   ],
   "source": [
    "for n in range (10):\n",
    "    print (n)"
   ]
  },
  {
   "cell_type": "code",
   "execution_count": 7,
   "id": "8b4b1bf3",
   "metadata": {
    "scrolled": true
   },
   "outputs": [
    {
     "name": "stdout",
     "output_type": "stream",
     "text": [
      "Hello\n",
      "Hello\n",
      "Hello\n",
      "Hello\n",
      "Hello\n"
     ]
    }
   ],
   "source": [
    "for f in range (5):\n",
    "    print (\"Hello\")"
   ]
  },
  {
   "cell_type": "code",
   "execution_count": 32,
   "id": "f51ebc46",
   "metadata": {},
   "outputs": [
    {
     "name": "stdout",
     "output_type": "stream",
     "text": [
      "1\n",
      "2\n",
      "3\n",
      "4\n",
      "5\n",
      "6\n",
      "7\n",
      "8\n"
     ]
    }
   ],
   "source": [
    "for h in range (1,9):\n",
    "    print (h)"
   ]
  },
  {
   "cell_type": "code",
   "execution_count": 22,
   "id": "79a228ac",
   "metadata": {},
   "outputs": [
    {
     "name": "stdout",
     "output_type": "stream",
     "text": [
      "0\n",
      "2\n",
      "4\n",
      "6\n",
      "8\n",
      "10\n",
      "12\n",
      "14\n"
     ]
    }
   ],
   "source": [
    "for a in range (0,15,2):\n",
    "    print (a)"
   ]
  },
  {
   "cell_type": "code",
   "execution_count": 23,
   "id": "38416508",
   "metadata": {},
   "outputs": [
    {
     "name": "stdout",
     "output_type": "stream",
     "text": [
      "0\n",
      "3\n",
      "6\n",
      "9\n",
      "12\n",
      "15\n",
      "18\n"
     ]
    }
   ],
   "source": [
    "for s in range (0,20,3):\n",
    "    print (s)"
   ]
  },
  {
   "cell_type": "code",
   "execution_count": 23,
   "id": "d67347ee",
   "metadata": {},
   "outputs": [
    {
     "name": "stdout",
     "output_type": "stream",
     "text": [
      "10\n",
      "8\n",
      "6\n",
      "4\n",
      "2\n"
     ]
    }
   ],
   "source": [
    "for d in range (10,0,-2):\n",
    "    print (d)"
   ]
  },
  {
   "cell_type": "code",
   "execution_count": 28,
   "id": "35bc4bde",
   "metadata": {},
   "outputs": [
    {
     "name": "stdout",
     "output_type": "stream",
     "text": [
      "15 * 0 = 0\n",
      "15 * 1 = 15\n",
      "15 * 2 = 30\n",
      "15 * 3 = 45\n",
      "15 * 4 = 60\n",
      "15 * 5 = 75\n",
      "15 * 6 = 90\n",
      "15 * 7 = 105\n",
      "15 * 8 = 120\n",
      "15 * 9 = 135\n",
      "15 * 10 = 150\n"
     ]
    }
   ],
   "source": [
    "for n in range (0,11):\n",
    "    print (\"15 *\",n, \"=\",  n*15)"
   ]
  },
  {
   "cell_type": "code",
   "execution_count": 27,
   "id": "073ce7ad",
   "metadata": {},
   "outputs": [
    {
     "name": "stdout",
     "output_type": "stream",
     "text": [
      "10 / 0 = 0.0\n",
      "10 / 1 = 0.1\n",
      "10 / 2 = 0.2\n",
      "10 / 3 = 0.3\n",
      "10 / 4 = 0.4\n",
      "10 / 5 = 0.5\n",
      "10 / 6 = 0.6\n",
      "10 / 7 = 0.7\n",
      "10 / 8 = 0.8\n",
      "10 / 9 = 0.9\n",
      "10 / 10 = 1.0\n"
     ]
    }
   ],
   "source": [
    "for n in range (0,11):\n",
    "    print (\"10 /\",n, \"=\",  n/10)"
   ]
  },
  {
   "cell_type": "markdown",
   "id": "ade783e3",
   "metadata": {},
   "source": [
    "# Practice while loop"
   ]
  },
  {
   "cell_type": "code",
   "execution_count": 5,
   "id": "a1fcc5e3",
   "metadata": {},
   "outputs": [
    {
     "name": "stdout",
     "output_type": "stream",
     "text": [
      "1\n",
      "2\n",
      "3\n",
      "4\n",
      "5\n"
     ]
    }
   ],
   "source": [
    "i = 1\n",
    "while i < 6:\n",
    "    print (i)\n",
    "    i +=1"
   ]
  },
  {
   "cell_type": "code",
   "execution_count": 20,
   "id": "3e7553e8",
   "metadata": {},
   "outputs": [
    {
     "name": "stdout",
     "output_type": "stream",
     "text": [
      "i = 2\n",
      "i = 4\n",
      "i = 6\n",
      "i = 8\n",
      "i = 10\n"
     ]
    }
   ],
   "source": [
    "i = 2\n",
    "while i < 11:\n",
    "    print (\"i =\", i)\n",
    "    i = i +2"
   ]
  },
  {
   "cell_type": "code",
   "execution_count": 7,
   "id": "8d4d2bb4",
   "metadata": {},
   "outputs": [
    {
     "name": "stdout",
     "output_type": "stream",
     "text": [
      "Shanu\n",
      "Shanu\n",
      "Shanu\n",
      "Shanu\n",
      "Shanu\n"
     ]
    }
   ],
   "source": [
    "i = 5\n",
    "while i < 10:\n",
    "    print (\"Shanu\")\n",
    "    i = i+1"
   ]
  },
  {
   "cell_type": "code",
   "execution_count": 4,
   "id": "6121dc72",
   "metadata": {},
   "outputs": [
    {
     "name": "stdout",
     "output_type": "stream",
     "text": [
      "Double =  2\n",
      "Double =  4\n",
      "Double =  8\n",
      "Double =  16\n",
      "Double =  32\n",
      "Double =  64\n",
      "Double =  128\n",
      "Double =  256\n",
      "Double =  512\n",
      "Double =  1024\n",
      "Double =  2048\n",
      "Double =  4096\n",
      "Double =  8192\n"
     ]
    }
   ],
   "source": [
    "i = 2\n",
    "while i < 10000:\n",
    "    print (\"Double = \", i)\n",
    "    i = i*2"
   ]
  },
  {
   "cell_type": "code",
   "execution_count": 30,
   "id": "48e163bf",
   "metadata": {},
   "outputs": [
    {
     "name": "stdout",
     "output_type": "stream",
     "text": [
      "1\n",
      "2\n",
      "4\n",
      "8\n",
      "16\n",
      "32\n",
      "64\n",
      "128\n"
     ]
    }
   ],
   "source": [
    "def powers_of_two(start, stop=None):\n",
    "    if stop is None:\n",
    "        start, stop = 1, start  # start at 1, as 0 * 2 is still 0\n",
    "    i = start\n",
    "    while i < stop:\n",
    "        yield i\n",
    "        i *= 2\n",
    "\n",
    "for i in powers_of_two(129):\n",
    "    print(i)"
   ]
  },
  {
   "cell_type": "markdown",
   "id": "49e94b5d",
   "metadata": {},
   "source": [
    "# if else  "
   ]
  },
  {
   "cell_type": "code",
   "execution_count": 14,
   "id": "afe94f91",
   "metadata": {},
   "outputs": [
    {
     "name": "stdout",
     "output_type": "stream",
     "text": [
      "Enter your username: shanu\n",
      "Enter your password: shanu123\n",
      "Login Succesfully\n"
     ]
    }
   ],
   "source": [
    "# user: shanu\n",
    "# pass: shanu123\n",
    "\n",
    "user = input (\"Enter your username: \")\n",
    "\n",
    "if user == 'shanu':\n",
    "    password = input (\"Enter your password: \")\n",
    "    if password == 'shanu123':\n",
    "        print (\"Login Succesfully\")\n",
    "        \n",
    "    else:\n",
    "        print (\"Password is wrong\")\n",
    "\n",
    "            \n",
    "else:\n",
    "    print (\"Username is wrong\")"
   ]
  },
  {
   "cell_type": "markdown",
   "id": "a9d11bea",
   "metadata": {},
   "source": [
    "### Loops and Conditional Programming \n",
    "**if elif else key words**"
   ]
  },
  {
   "cell_type": "code",
   "execution_count": 2,
   "id": "b20f093a",
   "metadata": {},
   "outputs": [
    {
     "name": "stdout",
     "output_type": "stream",
     "text": [
      "odd\n",
      "even\n",
      "odd\n",
      "even\n",
      "odd\n",
      "odd\n",
      "even\n",
      "odd\n",
      "IDK\n"
     ]
    }
   ],
   "source": [
    "x = [1,2,3,4,5,611,12,1231,0]\n",
    "\n",
    "for i in x:\n",
    "    if i==0:\n",
    "        print (\"IDK\")\n",
    "    elif i%2==0:\n",
    "        print (\"even\")\n",
    "    elif not i%2==0:\n",
    "        print (\"odd\")\n",
    "    else:\n",
    "        print (\"Enter any number\")"
   ]
  },
  {
   "cell_type": "markdown",
   "id": "1f377fca",
   "metadata": {},
   "source": [
    "### Creating our Custom Functions"
   ]
  },
  {
   "cell_type": "code",
   "execution_count": 3,
   "id": "a309b46e",
   "metadata": {},
   "outputs": [
    {
     "name": "stdout",
     "output_type": "stream",
     "text": [
      "121\n"
     ]
    }
   ],
   "source": [
    "def sum(i):\n",
    "    add = 0\n",
    "    for j in i:\n",
    "        add = add+j\n",
    "    print (add)\n",
    "        \n",
    "sum([1,2,3,4,5,6,100])\n",
    "import math\n",
    "def confirm_prime(i):\n",
    "    j=2\n",
    "    if i < 2:\n",
    "        print (\"IDK\")\n",
    "    elif i == 2:\n",
    "        print (\"Yes\")\n",
    "    else:\n",
    "        j=2\n",
    "        a = int(math.sqrt(i))\n",
    "        while (j<a):\n",
    "            if i%j==0:\n",
    "                #print (\"No\")\n",
    "                break\n",
    "            else:\n",
    "                j=j+1\n",
    "    if j >= int(math.sqrt(i)):\n",
    "        print(\"Yes\")\n",
    "    else: print (\"NO\")"
   ]
  },
  {
   "cell_type": "markdown",
   "id": "c8acdd6b",
   "metadata": {},
   "source": [
    "### Enter only whole numbers "
   ]
  },
  {
   "cell_type": "code",
   "execution_count": 4,
   "id": "c447e631",
   "metadata": {},
   "outputs": [
    {
     "name": "stdout",
     "output_type": "stream",
     "text": [
      "NO\n",
      "NO\n",
      "Yes\n",
      "Yes\n",
      "Yes\n",
      "Yes\n",
      "Yes\n",
      "Yes\n",
      "Yes\n",
      "Yes\n",
      "IDK\n",
      "Yes\n",
      "NO\n",
      "Yes\n",
      "NO\n",
      "Yes\n",
      "Yes\n",
      "NO\n"
     ]
    }
   ],
   "source": [
    "confirm_prime(100)\n",
    "confirm_prime(120)\n",
    "confirm_prime(7)\n",
    "k = [2,3,5,7,11,13,1,100,143,12,17,19,20]\n",
    "for o in k:\n",
    "    confirm_prime(o)"
   ]
  },
  {
   "cell_type": "markdown",
   "id": "809281ef",
   "metadata": {},
   "source": [
    "### Type gets you type of data or type of data structure \n",
    "**Lists and Dictionaries** "
   ]
  },
  {
   "cell_type": "code",
   "execution_count": 5,
   "id": "f24a5a54",
   "metadata": {},
   "outputs": [
    {
     "name": "stdout",
     "output_type": "stream",
     "text": [
      "1\n",
      "2\n",
      "3\n",
      "5\n",
      "6\n"
     ]
    },
    {
     "data": {
      "text/plain": [
       "[1, 2, 3, 5, 6, 11, 12, 13, 14]"
      ]
     },
     "execution_count": 5,
     "metadata": {},
     "output_type": "execute_result"
    }
   ],
   "source": [
    "x = [1,2,3,5,6]\n",
    "len(x)            \n",
    "for i in x:\n",
    "    print (i)\n",
    "    \n",
    "y = [11,12,13,14]\n",
    "x+y"
   ]
  },
  {
   "cell_type": "markdown",
   "id": "296e461b",
   "metadata": {},
   "source": [
    "# The End !!"
   ]
  }
 ],
 "metadata": {
  "kernelspec": {
   "display_name": "Python 3 (ipykernel)",
   "language": "python",
   "name": "python3"
  },
  "language_info": {
   "codemirror_mode": {
    "name": "ipython",
    "version": 3
   },
   "file_extension": ".py",
   "mimetype": "text/x-python",
   "name": "python",
   "nbconvert_exporter": "python",
   "pygments_lexer": "ipython3",
   "version": "3.9.12"
  }
 },
 "nbformat": 4,
 "nbformat_minor": 5
}
