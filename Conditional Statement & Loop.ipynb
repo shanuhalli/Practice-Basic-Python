{
 "cells": [
  {
   "cell_type": "markdown",
   "id": "3fde73f8",
   "metadata": {},
   "source": [
    "# Username and password login"
   ]
  },
  {
   "cell_type": "code",
   "execution_count": 1,
   "id": "472e9dff",
   "metadata": {},
   "outputs": [
    {
     "data": {
      "text/plain": [
       "True"
      ]
     },
     "execution_count": 1,
     "metadata": {},
     "output_type": "execute_result"
    }
   ],
   "source": [
    "a = 9 #Assinging value\n",
    "9==9 #Comparing value"
   ]
  },
  {
   "cell_type": "code",
   "execution_count": 2,
   "id": "2757628c",
   "metadata": {},
   "outputs": [
    {
     "name": "stdout",
     "output_type": "stream",
     "text": [
      "Enter the username: john\n",
      "Enter the password: john123\n",
      "Login successfully!!!\n"
     ]
    }
   ],
   "source": [
    "#user: john\n",
    "#password: john123\n",
    "\n",
    "user = input(\"Enter the username: \")\n",
    "\n",
    "if user==\"john\":\n",
    "    password = input(\"Enter the password: \")\n",
    "    if password ==\"john123\":\n",
    "        print(\"Login successfully!!!\")\n",
    "       \n",
    "    else:\n",
    "        print(\"Password is wrong\")\n",
    "        \n",
    "else:\n",
    "    print(\"Username is wrong\")"
   ]
  },
  {
   "cell_type": "markdown",
   "id": "9d8b09fd",
   "metadata": {},
   "source": [
    "# Loop\n",
    "\n",
    "while\n",
    "\n",
    "for"
   ]
  },
  {
   "cell_type": "code",
   "execution_count": 3,
   "id": "3fdd17c0",
   "metadata": {},
   "outputs": [
    {
     "name": "stdout",
     "output_type": "stream",
     "text": [
      "Hello 1\n",
      "Hello 2\n",
      "Hello 3\n",
      "Hello 4\n",
      "Hello 5\n",
      "Hello 6\n",
      "Hello 7\n",
      "Hello 8\n",
      "Hello 9\n",
      "Hello 10\n"
     ]
    }
   ],
   "source": [
    "a = 1\n",
    "\n",
    "while a<=10:\n",
    "    print(\"Hello\",a)\n",
    "    a = a+1"
   ]
  },
  {
   "cell_type": "markdown",
   "id": "a255965e",
   "metadata": {},
   "source": [
    "# print 20 to 1 number"
   ]
  },
  {
   "cell_type": "code",
   "execution_count": 4,
   "id": "34cd4baf",
   "metadata": {},
   "outputs": [
    {
     "name": "stdout",
     "output_type": "stream",
     "text": [
      "Number is :  20\n",
      "Number is :  19\n",
      "Number is :  18\n",
      "Number is :  17\n",
      "Number is :  16\n",
      "Number is :  15\n",
      "Number is :  14\n",
      "Number is :  13\n",
      "Number is :  12\n",
      "Number is :  11\n",
      "Number is :  10\n",
      "Number is :  9\n",
      "Number is :  8\n",
      "Number is :  7\n",
      "Number is :  6\n",
      "Number is :  5\n",
      "Number is :  4\n",
      "Number is :  3\n",
      "Number is :  2\n",
      "Number is :  1\n"
     ]
    }
   ],
   "source": [
    "n = 20\n",
    "\n",
    "while n>=1:\n",
    "    print(\"Number is : \",n)\n",
    "    n = n-1"
   ]
  },
  {
   "cell_type": "markdown",
   "id": "cac54805",
   "metadata": {},
   "source": [
    "# print 20 to 1 only even number"
   ]
  },
  {
   "cell_type": "code",
   "execution_count": 5,
   "id": "afe33260",
   "metadata": {},
   "outputs": [
    {
     "data": {
      "text/plain": [
       "1"
      ]
     },
     "execution_count": 5,
     "metadata": {},
     "output_type": "execute_result"
    }
   ],
   "source": [
    "17%4"
   ]
  },
  {
   "cell_type": "code",
   "execution_count": 6,
   "id": "0d4461a8",
   "metadata": {},
   "outputs": [
    {
     "data": {
      "text/plain": [
       "True"
      ]
     },
     "execution_count": 6,
     "metadata": {},
     "output_type": "execute_result"
    }
   ],
   "source": [
    "16%2==0"
   ]
  },
  {
   "cell_type": "code",
   "execution_count": 7,
   "id": "c1dcf311",
   "metadata": {},
   "outputs": [
    {
     "name": "stdout",
     "output_type": "stream",
     "text": [
      "even is :  20 odd 19\n",
      "even is :  18 odd 17\n",
      "even is :  16 odd 15\n",
      "even is :  14 odd 13\n",
      "even is :  12 odd 11\n",
      "even is :  10 odd 9\n",
      "even is :  8 odd 7\n",
      "even is :  6 odd 5\n",
      "even is :  4 odd 3\n",
      "even is :  2 odd 1\n"
     ]
    }
   ],
   "source": [
    "n = 20\n",
    "\n",
    "while n>=1:\n",
    "    if n%2==0:\n",
    "        print(\"even is : \",n,end=\" \")\n",
    "    else:\n",
    "        print(\"odd\",n)\n",
    "    n = n-1"
   ]
  },
  {
   "cell_type": "code",
   "execution_count": 8,
   "id": "012041de",
   "metadata": {},
   "outputs": [
    {
     "name": "stdout",
     "output_type": "stream",
     "text": [
      "20 | 18 | 16 | 14 | 12 | 10 | 8 | 6 | 4 | 2 | "
     ]
    }
   ],
   "source": [
    "n = 20\n",
    "\n",
    "while n>=1:\n",
    "    if n%2==0:\n",
    "        print(n,end=\" | \")\n",
    "        \n",
    "    n = n-1"
   ]
  },
  {
   "cell_type": "code",
   "execution_count": 9,
   "id": "f0e08765",
   "metadata": {},
   "outputs": [
    {
     "name": "stdout",
     "output_type": "stream",
     "text": [
      "Hi              Hey\n"
     ]
    }
   ],
   "source": [
    "print(\"Hi\",end=\"              \") #shift+ tab\n",
    "print(\"Hey\")"
   ]
  },
  {
   "cell_type": "markdown",
   "id": "b578d8db",
   "metadata": {},
   "source": [
    "# Apply while loop in login example"
   ]
  },
  {
   "cell_type": "code",
   "execution_count": 10,
   "id": "5a18dbec",
   "metadata": {},
   "outputs": [
    {
     "name": "stdout",
     "output_type": "stream",
     "text": [
      "Enter the username: john\n",
      "Enter the password: john123\n",
      "Login successfully!!!\n"
     ]
    }
   ],
   "source": [
    "#user: john\n",
    "#password: john123\n",
    "\n",
    "while True:\n",
    "    user = input(\"Enter the username: \")\n",
    "\n",
    "    if user==\"john\":\n",
    "        password = input(\"Enter the password: \")\n",
    "        if password ==\"john123\":\n",
    "            print(\"Login successfully!!!\")\n",
    "            break\n",
    "\n",
    "        else:\n",
    "            print(\"Password is wrong\")\n",
    "\n",
    "    else:\n",
    "        print(\"Username is wrong\")"
   ]
  },
  {
   "cell_type": "code",
   "execution_count": 11,
   "id": "e4685bac",
   "metadata": {},
   "outputs": [
    {
     "name": "stdout",
     "output_type": "stream",
     "text": [
      "Enter the username: john\n",
      "Enter the password: john123\n",
      "Login successfully!!!\n"
     ]
    }
   ],
   "source": [
    "count = 5\n",
    "\n",
    "while True:\n",
    "    user = input(\"Enter the username: \")\n",
    "\n",
    "    if user==\"john\":\n",
    "        password = input(\"Enter the password: \")\n",
    "        if password ==\"john123\":\n",
    "            print(\"Login successfully!!!\")\n",
    "            break\n",
    "\n",
    "        elif count == 1:\n",
    "            print(\"Your account is blocked for 24hrs\")\n",
    "            break\n",
    "        else:\n",
    "            count= count-1\n",
    "            print(\"Password is wrong, and remaining attempt is: \",count)\n",
    "\n",
    "    elif count ==1:\n",
    "        print(\"Your account is blocked for 24hrs\")\n",
    "        break\n",
    "    else:\n",
    "        count = count-1\n",
    "        print(\"Username is wrong, and remaining attempt is: \",count)"
   ]
  },
  {
   "cell_type": "markdown",
   "id": "f67fac00",
   "metadata": {},
   "source": [
    "# Nested while: while inside while"
   ]
  },
  {
   "cell_type": "code",
   "execution_count": 13,
   "id": "91e3b734",
   "metadata": {},
   "outputs": [
    {
     "name": "stdout",
     "output_type": "stream",
     "text": [
      "Hello 1\n",
      "Hello 2\n",
      "Hello 3\n",
      "Hello 4\n",
      "Hello 5\n",
      "Hello 6\n",
      "Hello 7\n",
      "Hello 8\n",
      "Hello 9\n",
      "Hello 10\n",
      "Hi 11\n",
      "Hi 12\n",
      "Hi 13\n",
      "Hi 14\n",
      "Hi 15\n",
      "Hello 16\n",
      "Hello 17\n",
      "Hello 18\n",
      "Hello 19\n",
      "Hello 20\n",
      "Hey 21\n",
      "Hey 22\n",
      "Hey 23\n",
      "Hey 24\n",
      "Hey 25\n",
      "Hello 26\n",
      "Hello 27\n",
      "Hello 28\n",
      "Hello 29\n",
      "Hello 30\n"
     ]
    }
   ],
   "source": [
    "a = 1\n",
    "while a<=30:\n",
    "    print(\"Hello\",a)\n",
    "    a = a+1\n",
    "    \n",
    "    while a>10 and a<=15:\n",
    "        print(\"Hi\",a)\n",
    "        a = a+1\n",
    "        \n",
    "    while a>20 and a<=25:\n",
    "        print(\"Hey\",a)\n",
    "        a = a+1\n",
    "        \n",
    "    "
   ]
  },
  {
   "cell_type": "markdown",
   "id": "acf34f79",
   "metadata": {},
   "source": [
    "# For Loop\n",
    "\n",
    "using for iteration \n",
    "\n",
    "for var in seq:\n",
    "    #Body\n",
    "    \n",
    "**Sequence can be:**\n",
    "\n",
    "range()\n",
    "\n",
    "list()\n",
    "\n",
    "tuple()\n",
    "\n",
    "string()\n",
    "\n",
    "set()"
   ]
  },
  {
   "cell_type": "code",
   "execution_count": 14,
   "id": "ccce1252",
   "metadata": {},
   "outputs": [
    {
     "name": "stdout",
     "output_type": "stream",
     "text": [
      "16\n",
      "25\n",
      "36\n",
      "49\n",
      "49\n",
      "16\n",
      "25\n",
      "49\n",
      "64\n"
     ]
    }
   ],
   "source": [
    "a= [4,5,6,7,7,4,5,7,8]\n",
    "\n",
    "for v in a:\n",
    "    print(v**2)"
   ]
  },
  {
   "cell_type": "code",
   "execution_count": 15,
   "id": "d33c34a9",
   "metadata": {},
   "outputs": [
    {
     "name": "stdout",
     "output_type": "stream",
     "text": [
      "I\n",
      "n\n",
      "d\n",
      "i\n",
      "a\n"
     ]
    }
   ],
   "source": [
    "st = \"India\"\n",
    "\n",
    "for g in st:\n",
    "    print(g)"
   ]
  },
  {
   "cell_type": "code",
   "execution_count": 16,
   "id": "924cdde1",
   "metadata": {},
   "outputs": [
    {
     "name": "stdout",
     "output_type": "stream",
     "text": [
      "0\n",
      "1\n",
      "2\n",
      "3\n",
      "4\n",
      "5\n",
      "6\n",
      "7\n",
      "8\n",
      "9\n"
     ]
    }
   ],
   "source": [
    "for y in range(10):\n",
    "    print(y)"
   ]
  },
  {
   "cell_type": "code",
   "execution_count": 17,
   "id": "415ccd55",
   "metadata": {},
   "outputs": [
    {
     "name": "stdout",
     "output_type": "stream",
     "text": [
      "1\n",
      "2\n",
      "3\n",
      "4\n",
      "5\n",
      "6\n",
      "7\n",
      "8\n",
      "9\n",
      "10\n"
     ]
    }
   ],
   "source": [
    "for y in range(1,11):\n",
    "    print(y)"
   ]
  },
  {
   "cell_type": "code",
   "execution_count": 18,
   "id": "c68fee86",
   "metadata": {},
   "outputs": [
    {
     "name": "stdout",
     "output_type": "stream",
     "text": [
      "1\n",
      "3\n",
      "5\n",
      "7\n",
      "9\n"
     ]
    }
   ],
   "source": [
    "for y in range(1,11,2):\n",
    "    print(y)"
   ]
  },
  {
   "cell_type": "code",
   "execution_count": 19,
   "id": "59ca0bdc",
   "metadata": {},
   "outputs": [
    {
     "name": "stdout",
     "output_type": "stream",
     "text": [
      "2\n",
      "4\n",
      "6\n",
      "8\n",
      "10\n"
     ]
    }
   ],
   "source": [
    "for y in range(2,11,2):\n",
    "    print(y)"
   ]
  },
  {
   "cell_type": "code",
   "execution_count": 20,
   "id": "3b3cf286",
   "metadata": {},
   "outputs": [
    {
     "name": "stdout",
     "output_type": "stream",
     "text": [
      "hello\n"
     ]
    }
   ],
   "source": [
    "a = 8\n",
    "b = 9\n",
    "c = 18\n",
    "\n",
    "if a<b:\n",
    "    print(\"hello\")\n",
    "\n",
    "elif c>b:\n",
    "    print(\"Hey\")\n",
    "    \n",
    "else:\n",
    "    print(\"Bye\")"
   ]
  },
  {
   "cell_type": "markdown",
   "id": "7f8a7e5a",
   "metadata": {},
   "source": [
    "# The End!!"
   ]
  }
 ],
 "metadata": {
  "kernelspec": {
   "display_name": "Python 3 (ipykernel)",
   "language": "python",
   "name": "python3"
  },
  "language_info": {
   "codemirror_mode": {
    "name": "ipython",
    "version": 3
   },
   "file_extension": ".py",
   "mimetype": "text/x-python",
   "name": "python",
   "nbconvert_exporter": "python",
   "pygments_lexer": "ipython3",
   "version": "3.9.12"
  }
 },
 "nbformat": 4,
 "nbformat_minor": 5
}
