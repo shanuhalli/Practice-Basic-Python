{
 "cells": [
  {
   "cell_type": "markdown",
   "id": "7f5fd997",
   "metadata": {},
   "source": [
    "## Two examples for each module."
   ]
  },
  {
   "cell_type": "markdown",
   "id": "b5502ba0",
   "metadata": {},
   "source": [
    "## 1. while loop"
   ]
  },
  {
   "cell_type": "code",
   "execution_count": 1,
   "id": "06644ffd",
   "metadata": {},
   "outputs": [
    {
     "name": "stdout",
     "output_type": "stream",
     "text": [
      "5\n",
      "6\n",
      "7\n",
      "8\n"
     ]
    }
   ],
   "source": [
    "i = 5\n",
    "while i < 9:\n",
    "  print(i)\n",
    "  i += 1"
   ]
  },
  {
   "cell_type": "code",
   "execution_count": 2,
   "id": "d3cb15d1",
   "metadata": {},
   "outputs": [
    {
     "name": "stdout",
     "output_type": "stream",
     "text": [
      "The count is: 9\n",
      "The count is: 8\n",
      "The count is: 7\n",
      "The count is: 6\n",
      "The count is: 5\n",
      "The count is: 4\n"
     ]
    }
   ],
   "source": [
    "count = 9\n",
    "while count > 3:\n",
    "   print ('The count is:', count)\n",
    "   count = count - 1"
   ]
  },
  {
   "cell_type": "markdown",
   "id": "41bc26e3",
   "metadata": {},
   "source": [
    "## 2. for loop"
   ]
  },
  {
   "cell_type": "code",
   "execution_count": 3,
   "id": "edb12c4e",
   "metadata": {},
   "outputs": [
    {
     "name": "stdout",
     "output_type": "stream",
     "text": [
      "0\n",
      "1\n",
      "2\n",
      "3\n",
      "4\n",
      "5\n"
     ]
    }
   ],
   "source": [
    "for x in range(6):\n",
    "  print(x)"
   ]
  },
  {
   "cell_type": "code",
   "execution_count": 4,
   "id": "d82ecb88",
   "metadata": {},
   "outputs": [
    {
     "name": "stdout",
     "output_type": "stream",
     "text": [
      "0\n",
      "2\n",
      "4\n",
      "6\n"
     ]
    }
   ],
   "source": [
    "for x in range(0, 8, 2):\n",
    "  print(x)"
   ]
  },
  {
   "cell_type": "code",
   "execution_count": 5,
   "id": "a34358fa",
   "metadata": {
    "scrolled": true
   },
   "outputs": [
    {
     "name": "stdout",
     "output_type": "stream",
     "text": [
      "Mumbai\n",
      "Banglore\n",
      "Chennai\n",
      "Hyderabad\n"
     ]
    }
   ],
   "source": [
    "city = \"Mumbai\", \"Banglore\", \"Chennai\", \"Hyderabad\"\n",
    "for x in city:\n",
    "  print(x)"
   ]
  },
  {
   "cell_type": "markdown",
   "id": "c4f55230",
   "metadata": {},
   "source": [
    "## 3. if else"
   ]
  },
  {
   "cell_type": "code",
   "execution_count": 6,
   "id": "bc7765dc",
   "metadata": {},
   "outputs": [
    {
     "name": "stdout",
     "output_type": "stream",
     "text": [
      "i is greater than 15\n"
     ]
    }
   ],
   "source": [
    "i = 20\n",
    "if i < 15:\n",
    "    print(\"i is smaller than 15\")\n",
    "else:\n",
    "    print(\"i is greater than 15\")"
   ]
  },
  {
   "cell_type": "code",
   "execution_count": 7,
   "id": "a37ccc61",
   "metadata": {},
   "outputs": [
    {
     "name": "stdout",
     "output_type": "stream",
     "text": [
      "x is an even number\n"
     ]
    }
   ],
   "source": [
    "x = 12\n",
    "\n",
    "if x%2 == 0:\n",
    "    print('x is an even number')\n",
    "else:\n",
    "    print(\"x is an odd number\")"
   ]
  },
  {
   "cell_type": "markdown",
   "id": "b5d913e0",
   "metadata": {},
   "source": [
    "## 4. if elif else"
   ]
  },
  {
   "cell_type": "code",
   "execution_count": 8,
   "id": "52e96894",
   "metadata": {},
   "outputs": [
    {
     "name": "stdout",
     "output_type": "stream",
     "text": [
      "Eligible for Army\n"
     ]
    }
   ],
   "source": [
    "age = 22\n",
    "gender = \"Male\"\n",
    "\n",
    "if age > 18 and gender == 'Male':\n",
    "    print (\"Eligible for Army\")\n",
    "elif age > 18 and gender == 'Female':\n",
    "    print (\"Eligible for Airforce\")\n",
    "else :\n",
    "    print(\"Not Eligible for any criteria\")"
   ]
  },
  {
   "cell_type": "code",
   "execution_count": 9,
   "id": "8c5f04bb",
   "metadata": {},
   "outputs": [
    {
     "name": "stdout",
     "output_type": "stream",
     "text": [
      "Enter your percentage : 85\n",
      "Your Grade is A\n"
     ]
    }
   ],
   "source": [
    "percentage = int(input(\"Enter your percentage : \"))\n",
    "\n",
    "if percentage >= 50 and percentage < 65:\n",
    "    print ('Your grade is C')\n",
    "elif percentage >= 65 and percentage < 80:\n",
    "    print ('Your Grade is B')\n",
    "elif percentage >= 80:\n",
    "    print ('Your Grade is A')\n",
    "else :\n",
    "    print ('You Are FAIL')"
   ]
  },
  {
   "cell_type": "code",
   "execution_count": 10,
   "id": "2011877d",
   "metadata": {},
   "outputs": [
    {
     "name": "stdout",
     "output_type": "stream",
     "text": [
      "Even No:  [2, 4, 6, 8, 10, 12, 14]\n",
      "Odd No:  [1, 3, 5, 7, 9, 11, 13, 15]\n",
      "float No:  [1.1, 2.2, 3.3, 4.4]\n"
     ]
    }
   ],
   "source": [
    "number = [1,2,3,4,5,6,7,8,9,1.1,2.2,3.3,4.4,10,11,12,13,14,15]\n",
    "even_num=[]\n",
    "odd_num=[]\n",
    "float_num=[]\n",
    "\n",
    "for i in number:\n",
    "    if i%2==0:\n",
    "        even_num.append(i)\n",
    "    elif i%2==1:\n",
    "        odd_num.append(i)\n",
    "    else :\n",
    "        float_num.append(i)\n",
    "        \n",
    "print('Even No: ', even_num)\n",
    "print('Odd No: ', odd_num)\n",
    "print('float No: ', float_num)"
   ]
  },
  {
   "cell_type": "markdown",
   "id": "6b18b5a4",
   "metadata": {},
   "source": [
    "## 5. break"
   ]
  },
  {
   "cell_type": "code",
   "execution_count": 11,
   "id": "0d847075",
   "metadata": {
    "scrolled": false
   },
   "outputs": [
    {
     "name": "stdout",
     "output_type": "stream",
     "text": [
      "1\n",
      "2\n",
      "3\n",
      "4\n",
      "5\n",
      "6\n",
      "7\n"
     ]
    }
   ],
   "source": [
    "for i in range (1, 10):\n",
    "    if i == 8:\n",
    "        break\n",
    "    print (i)"
   ]
  },
  {
   "cell_type": "code",
   "execution_count": 12,
   "id": "715d4dcc",
   "metadata": {},
   "outputs": [
    {
     "name": "stdout",
     "output_type": "stream",
     "text": [
      "r\n",
      "o\n",
      "a\n",
      "h\n",
      "n\n",
      " \n",
      "i\n"
     ]
    }
   ],
   "source": [
    "def boy(name):\n",
    "    for i in name:\n",
    "        if i == 's':\n",
    "            break\n",
    "        print (i)\n",
    "boy(\"roahn is good boy\")"
   ]
  },
  {
   "cell_type": "markdown",
   "id": "f73d9a7a",
   "metadata": {},
   "source": [
    "## 6. continue"
   ]
  },
  {
   "cell_type": "code",
   "execution_count": 13,
   "id": "a53d95ef",
   "metadata": {
    "scrolled": true
   },
   "outputs": [
    {
     "name": "stdout",
     "output_type": "stream",
     "text": [
      "1\n",
      "2\n",
      "3\n",
      "6\n",
      "7\n",
      "8\n",
      "9\n"
     ]
    }
   ],
   "source": [
    "for i in range (1,10):\n",
    "    if i == 4 or i == 5:\n",
    "        continue\n",
    "    print (i)"
   ]
  },
  {
   "cell_type": "code",
   "execution_count": 14,
   "id": "bed33ee8",
   "metadata": {},
   "outputs": [
    {
     "name": "stdout",
     "output_type": "stream",
     "text": [
      "r\n",
      "o\n",
      "a\n",
      "h\n",
      "n\n",
      " \n",
      "i\n",
      " \n",
      "g\n",
      "o\n",
      "o\n",
      "d\n",
      " \n",
      "b\n",
      "o\n",
      "y\n"
     ]
    }
   ],
   "source": [
    "def boy(name):\n",
    "    for i in name:\n",
    "        if i == 's':\n",
    "            continue\n",
    "        print (i)\n",
    "boy(\"roahn is good boy\")"
   ]
  },
  {
   "cell_type": "markdown",
   "id": "7b59d645",
   "metadata": {},
   "source": [
    "## 7. user defined functions without for loop, if loop"
   ]
  },
  {
   "cell_type": "code",
   "execution_count": 15,
   "id": "18decb63",
   "metadata": {},
   "outputs": [
    {
     "name": "stdout",
     "output_type": "stream",
     "text": [
      "Enter your value1: 10\n",
      "Enter your value2: 15\n",
      "25\n"
     ]
    }
   ],
   "source": [
    "A = int(input(\"Enter your value1: \"))\n",
    "B = int(input(\"Enter your value2: \"))\n",
    "Sum= A+B\n",
    "\n",
    "print(Sum)"
   ]
  },
  {
   "cell_type": "code",
   "execution_count": 16,
   "id": "08e08f3d",
   "metadata": {},
   "outputs": [
    {
     "name": "stdout",
     "output_type": "stream",
     "text": [
      "enter your num1 : 10\n",
      "enter your num2 : 15\n",
      "The sum is = [25]\n"
     ]
    }
   ],
   "source": [
    "def my_num(x, y):\n",
    "   both = [x + y]\n",
    "   return both\n",
    "\n",
    "x = int(input (\"enter your num1 : \"))\n",
    "y = int(input (\"enter your num2 : \"))\n",
    "\n",
    "print(\"The sum is =\", my_num(x,y))"
   ]
  },
  {
   "cell_type": "code",
   "execution_count": 17,
   "id": "653799c9",
   "metadata": {},
   "outputs": [
    {
     "name": "stdout",
     "output_type": "stream",
     "text": [
      "Enter Your No : 15\n",
      "Your Input No Cube is:  3375\n"
     ]
    }
   ],
   "source": [
    "def cube(x):\n",
    "    y = x**3\n",
    "    return y\n",
    "b = int(input('Enter Your No : '))\n",
    "print ('Your Input No Cube is: ',cube(b))"
   ]
  },
  {
   "cell_type": "markdown",
   "id": "78eed4cc",
   "metadata": {},
   "source": [
    "## 8. user defined functions with for loop"
   ]
  },
  {
   "cell_type": "code",
   "execution_count": 18,
   "id": "73c739d9",
   "metadata": {},
   "outputs": [
    {
     "name": "stdout",
     "output_type": "stream",
     "text": [
      "Enter your no: 1000\n",
      "1000 [1, 2, 4, 5, 8, 10, 20, 25, 40, 50, 100, 125, 200, 250, 500, 1000]\n"
     ]
    }
   ],
   "source": [
    "def find_factors(x):\n",
    "    factor_list=[]\n",
    "    for i in range (1,x+1):\n",
    "        if x%i==0:\n",
    "            factor_list.append(i)\n",
    "    return factor_list\n",
    "a = int(input('Enter your no: '))\n",
    "print (a, find_factors(a))"
   ]
  },
  {
   "cell_type": "code",
   "execution_count": 19,
   "id": "04cca0af",
   "metadata": {},
   "outputs": [
    {
     "name": "stdout",
     "output_type": "stream",
     "text": [
      "Mumbai\n",
      "Banglore\n",
      "Chennai\n",
      "Hyderabad\n"
     ]
    }
   ],
   "source": [
    "city = \"Mumbai\", \"Banglore\", \"Chennai\", \"Hyderabad\"\n",
    "for x in city:\n",
    "  print(x)"
   ]
  },
  {
   "cell_type": "code",
   "execution_count": 20,
   "id": "af6f77f6",
   "metadata": {},
   "outputs": [
    {
     "name": "stdout",
     "output_type": "stream",
     "text": [
      "Enter your name: Shanu\n",
      "S\n",
      "h\n",
      "a\n",
      "n\n",
      "u\n"
     ]
    }
   ],
   "source": [
    "name = input(\"Enter your name: \")\n",
    "\n",
    "for x in name:\n",
    "    print(x)"
   ]
  },
  {
   "cell_type": "markdown",
   "id": "7b6e5c93",
   "metadata": {},
   "source": [
    "## 9. user defined functions with for loop and if condition "
   ]
  },
  {
   "cell_type": "code",
   "execution_count": 21,
   "id": "784f9932",
   "metadata": {
    "scrolled": true
   },
   "outputs": [
    {
     "name": "stdout",
     "output_type": "stream",
     "text": [
      "0\n",
      "1\n",
      "2\n",
      "3\n",
      "4\n",
      "5\n",
      "6\n",
      "7\n",
      "8\n",
      "9\n",
      "None\n"
     ]
    }
   ],
   "source": [
    "def base():\n",
    "    for i in range (0,10):\n",
    "        print(i)\n",
    "print(base())"
   ]
  },
  {
   "cell_type": "code",
   "execution_count": 22,
   "id": "a7122517",
   "metadata": {},
   "outputs": [
    {
     "name": "stdout",
     "output_type": "stream",
     "text": [
      "Enter your no: 13\n",
      "Your No is: Prime No\n"
     ]
    }
   ],
   "source": [
    "def identify_prime_numbers(x):\n",
    "    prime_list=[]\n",
    "    \n",
    "    for i in range (1, x+1):\n",
    "        if x%i==0:\n",
    "            prime_list.append(i)\n",
    "        \n",
    "        elif x%i==1:\n",
    "            prime_list.append(i)\n",
    "            return \"Prime No\"\n",
    "        else:\n",
    "            return \"Not Prime\"\n",
    "c = int(input('Enter your no: '))\n",
    "print ('Your No is:', identify_prime_numbers(c))"
   ]
  },
  {
   "cell_type": "code",
   "execution_count": 23,
   "id": "5765e912",
   "metadata": {},
   "outputs": [
    {
     "name": "stdout",
     "output_type": "stream",
     "text": [
      "Customer Name: Shanu\n"
     ]
    },
    {
     "data": {
      "text/plain": [
       "True"
      ]
     },
     "execution_count": 23,
     "metadata": {},
     "output_type": "execute_result"
    }
   ],
   "source": [
    "word = input('Customer Name: ')\n",
    "def validateCustomerName(word):\n",
    "    while True:\n",
    "        if all(x.isalpha() or x.isspace() for x in word):\n",
    "            return True\n",
    "\n",
    "        else:\n",
    "            print('invalid name')\n",
    "            return False\n",
    "\n",
    "validateCustomerName(word)"
   ]
  },
  {
   "cell_type": "code",
   "execution_count": 24,
   "id": "43ff0a9f",
   "metadata": {},
   "outputs": [
    {
     "name": "stdout",
     "output_type": "stream",
     "text": [
      "Enter any number:13\n",
      "13 number is prime but not composite number\n"
     ]
    }
   ],
   "source": [
    "#Input a number and check if the number is prime or composite number\n",
    "n= int(input(\"Enter any number:\"))\n",
    "if(n ==0 or n == 1):\n",
    "    printf(n,\"Number is neither prime nor composite\")\n",
    "elif n>1 :\n",
    "    for i in range(2,n):\n",
    "        if(n%i == 0):\n",
    "            print(n,\"is not prime but composite number\")\n",
    "            break\n",
    "    else:\n",
    "        print(n,\"number is prime but not composite number\")\n",
    "else :\n",
    "    print(\"Please enter positive number only \")"
   ]
  },
  {
   "cell_type": "markdown",
   "id": "2c19bdfa",
   "metadata": {},
   "source": [
    "## 10. for loop with in operator "
   ]
  },
  {
   "cell_type": "code",
   "execution_count": 25,
   "id": "06fb915c",
   "metadata": {},
   "outputs": [
    {
     "name": "stdout",
     "output_type": "stream",
     "text": [
      "Even No 2\n",
      "Even No 4\n",
      "Even No 6\n",
      "Even No 8\n"
     ]
    }
   ],
   "source": [
    "for i in range (1,10,1):\n",
    "    if i%2==0:\n",
    "        print('Even No', i)"
   ]
  },
  {
   "cell_type": "markdown",
   "id": "7737710f",
   "metadata": {},
   "source": [
    "## 11. for loop with if statement"
   ]
  },
  {
   "cell_type": "code",
   "execution_count": 26,
   "id": "cfa5a22a",
   "metadata": {},
   "outputs": [
    {
     "name": "stdout",
     "output_type": "stream",
     "text": [
      "Enter Your Name: \n",
      "NoneShanu\n",
      "S\n",
      "h\n"
     ]
    }
   ],
   "source": [
    "name = input(print('Enter Your Name: '))\n",
    "for i in name :\n",
    "    if (i=='a' or i=='e' or i=='i' or i=='o' or i=='u'):\n",
    "        break\n",
    "    print(i)"
   ]
  },
  {
   "cell_type": "code",
   "execution_count": 27,
   "id": "9c7d84f0",
   "metadata": {},
   "outputs": [
    {
     "name": "stdout",
     "output_type": "stream",
     "text": [
      "No 'are found'\n"
     ]
    }
   ],
   "source": [
    "word = \"India is the Best\"\n",
    "if 'are' not in word:\n",
    "    print(\"No 'are found'\")"
   ]
  },
  {
   "cell_type": "code",
   "execution_count": 28,
   "id": "e4351e84",
   "metadata": {},
   "outputs": [
    {
     "name": "stdout",
     "output_type": "stream",
     "text": [
      "[2, 4, 6, 8, 10, 12, 14, 16, 18]\n"
     ]
    }
   ],
   "source": [
    "num_list = []\n",
    "for i in range (2,20,2):\n",
    "    if i%2==0:\n",
    "        num_list.append(i)\n",
    "print(num_list)"
   ]
  },
  {
   "cell_type": "markdown",
   "id": "4bcc0a27",
   "metadata": {},
   "source": [
    "## 12. for loop with not in operator "
   ]
  },
  {
   "cell_type": "code",
   "execution_count": 29,
   "id": "490527ef",
   "metadata": {},
   "outputs": [
    {
     "name": "stdout",
     "output_type": "stream",
     "text": [
      "[]\n"
     ]
    }
   ],
   "source": [
    "num_list = []\n",
    "for i in range (2,20,2):\n",
    "    if i%2==1:\n",
    "        num_list.append(i)\n",
    "print(num_list)"
   ]
  },
  {
   "cell_type": "code",
   "execution_count": 30,
   "id": "c076ecf0",
   "metadata": {},
   "outputs": [
    {
     "name": "stdout",
     "output_type": "stream",
     "text": [
      "Human\n",
      "Human\n",
      "Human\n",
      "Human\n",
      "Human\n"
     ]
    }
   ],
   "source": [
    "plant = ['Tree', 'Air', 'Shelter', 'Human']\n",
    "harmful = 'Human'\n",
    "\n",
    "for x in harmful:\n",
    "    if harmful not in plant:\n",
    "        print(plant)\n",
    "    else:\n",
    "        print(harmful)"
   ]
  },
  {
   "cell_type": "markdown",
   "id": "e39759d3",
   "metadata": {},
   "source": [
    "## 13. if with in operator "
   ]
  },
  {
   "cell_type": "code",
   "execution_count": 31,
   "id": "7c619446",
   "metadata": {},
   "outputs": [
    {
     "name": "stdout",
     "output_type": "stream",
     "text": [
      "Expected Weather\n"
     ]
    }
   ],
   "source": [
    "climate = ['Spring', 'Rainy', 'Summer', 'Winter']\n",
    "z = ('Spring')\n",
    "\n",
    "if z in climate:\n",
    "    print ('Expected Weather')\n",
    "else:\n",
    "    print ('Unexpected Weather')"
   ]
  },
  {
   "cell_type": "code",
   "execution_count": 32,
   "id": "26f875f4",
   "metadata": {},
   "outputs": [
    {
     "name": "stdout",
     "output_type": "stream",
     "text": [
      "YES\n"
     ]
    }
   ],
   "source": [
    "maha = 'Eknath Shinde to take oath as Chief Minister of Maharashtra'\n",
    "if \"Minister\" in maha:\n",
    "    print('YES')\n",
    "else:\n",
    "    print('NO')"
   ]
  },
  {
   "cell_type": "code",
   "execution_count": 33,
   "id": "353fad51",
   "metadata": {},
   "outputs": [
    {
     "name": "stdout",
     "output_type": "stream",
     "text": [
      "Animal Found\n"
     ]
    }
   ],
   "source": [
    "animal = ['Tiger', 'Cat', 'Lion', 'Dog', 'Horse', 'Elephant']\n",
    "if 'Cat' in animal:\n",
    "    print('Animal Found')\n",
    "else:\n",
    "    print('Animal not Found')"
   ]
  },
  {
   "cell_type": "markdown",
   "id": "12407130",
   "metadata": {},
   "source": [
    "## 14. if with not in opearator "
   ]
  },
  {
   "cell_type": "code",
   "execution_count": 34,
   "id": "43ca5c15",
   "metadata": {},
   "outputs": [
    {
     "name": "stdout",
     "output_type": "stream",
     "text": [
      "NO\n"
     ]
    }
   ],
   "source": [
    "maha = 'Eknath Shinde to take oath as Chief Minister of Maharashtra'\n",
    "if \"Prime\" in maha:\n",
    "    print('YES')\n",
    "else:\n",
    "    print('NO')"
   ]
  },
  {
   "cell_type": "code",
   "execution_count": 35,
   "id": "6b0c50a7",
   "metadata": {},
   "outputs": [
    {
     "name": "stdout",
     "output_type": "stream",
     "text": [
      "Animal not Found\n"
     ]
    }
   ],
   "source": [
    "animal = ['Tiger', 'Cat', 'Lion', 'Dog', 'Horse', 'Elephant']\n",
    "if 'Man' in animal:\n",
    "    print('Animal Found')\n",
    "else:\n",
    "    print('Animal not Found')"
   ]
  },
  {
   "cell_type": "markdown",
   "id": "98b0e6e4",
   "metadata": {},
   "source": [
    "# The End!!! "
   ]
  }
 ],
 "metadata": {
  "kernelspec": {
   "display_name": "Python 3 (ipykernel)",
   "language": "python",
   "name": "python3"
  },
  "language_info": {
   "codemirror_mode": {
    "name": "ipython",
    "version": 3
   },
   "file_extension": ".py",
   "mimetype": "text/x-python",
   "name": "python",
   "nbconvert_exporter": "python",
   "pygments_lexer": "ipython3",
   "version": "3.9.12"
  }
 },
 "nbformat": 4,
 "nbformat_minor": 5
}
