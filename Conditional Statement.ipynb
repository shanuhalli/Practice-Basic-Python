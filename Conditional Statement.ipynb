{
 "cells": [
  {
   "cell_type": "markdown",
   "id": "06c39b63",
   "metadata": {},
   "source": [
    "# Conditional Statements in Python"
   ]
  },
  {
   "cell_type": "markdown",
   "id": "f286804f",
   "metadata": {},
   "source": [
    "## 1. If Statement"
   ]
  },
  {
   "cell_type": "code",
   "execution_count": 1,
   "id": "c553285c",
   "metadata": {},
   "outputs": [
    {
     "data": {
      "text/plain": [
       "False"
      ]
     },
     "execution_count": 1,
     "metadata": {},
     "output_type": "execute_result"
    }
   ],
   "source": [
    "a = 10\n",
    "b = 20\n",
    "a == b"
   ]
  },
  {
   "cell_type": "code",
   "execution_count": 2,
   "id": "03ddeac6",
   "metadata": {},
   "outputs": [
    {
     "name": "stdout",
     "output_type": "stream",
     "text": [
      "No\n"
     ]
    }
   ],
   "source": [
    "a = 10\n",
    "b = 20\n",
    "if a == b:\n",
    "    print ('Yes')\n",
    "else:\n",
    "    print('No')"
   ]
  },
  {
   "cell_type": "code",
   "execution_count": 3,
   "id": "50c5d393",
   "metadata": {
    "scrolled": true
   },
   "outputs": [
    {
     "name": "stdout",
     "output_type": "stream",
     "text": [
      "5 is a positive number.\n",
      "This statement is true.\n"
     ]
    }
   ],
   "source": [
    "num = 5\n",
    "if num > 0:\n",
    "    print(num, \"is a positive number.\")\n",
    "print(\"This statement is true.\")"
   ]
  },
  {
   "cell_type": "code",
   "execution_count": 4,
   "id": "b1d753bd",
   "metadata": {},
   "outputs": [
    {
     "name": "stdout",
     "output_type": "stream",
     "text": [
      "b is greater than a\n"
     ]
    }
   ],
   "source": [
    "a = 25\n",
    "b = 170\n",
    "if b > a:\n",
    "  print(\"b is greater than a\")"
   ]
  },
  {
   "cell_type": "markdown",
   "id": "a89ad550",
   "metadata": {},
   "source": [
    "## 2. If Else Statement"
   ]
  },
  {
   "cell_type": "code",
   "execution_count": 5,
   "id": "aa27568c",
   "metadata": {},
   "outputs": [
    {
     "name": "stdout",
     "output_type": "stream",
     "text": [
      "Yes\n"
     ]
    }
   ],
   "source": [
    "a = 10\n",
    "b = 20\n",
    "c = 30\n",
    "if (a+b)/ c == 1 and c - b- a == 0:\n",
    "    print('Yes')\n",
    "else:\n",
    "    print('No')"
   ]
  },
  {
   "cell_type": "code",
   "execution_count": 6,
   "id": "882375d7",
   "metadata": {},
   "outputs": [
    {
     "name": "stdout",
     "output_type": "stream",
     "text": [
      "Positive or Zero\n"
     ]
    }
   ],
   "source": [
    "num = 5\n",
    "if num >= 0:\n",
    "    print(\"Positive or Zero\")\n",
    "else:\n",
    "     print(\"Negative number\")"
   ]
  },
  {
   "cell_type": "markdown",
   "id": "017144fd",
   "metadata": {},
   "source": [
    "## 3. If Elif Else Statement"
   ]
  },
  {
   "cell_type": "code",
   "execution_count": 7,
   "id": "ec028d3f",
   "metadata": {},
   "outputs": [
    {
     "name": "stdout",
     "output_type": "stream",
     "text": [
      "Second condition is true\n"
     ]
    }
   ],
   "source": [
    "a = 10\n",
    "b = 11\n",
    "c = 10\n",
    "if a == b:\n",
    "    print ('First condition is true')\n",
    "elif a == c:\n",
    "    print ('Second condition is true')\n",
    "else:\n",
    "    print ('Nothing is true. Existence is pain')"
   ]
  },
  {
   "cell_type": "code",
   "execution_count": 8,
   "id": "3dbb0a0b",
   "metadata": {},
   "outputs": [
    {
     "name": "stdout",
     "output_type": "stream",
     "text": [
      "Positive number\n"
     ]
    }
   ],
   "source": [
    "num = 7\n",
    "if num > 0:\n",
    "    print(\"Positive number\")\n",
    "elif num == 0:\n",
    "    print(\"Zero\")\n",
    "else:\n",
    "    print(\"Negative number\")"
   ]
  },
  {
   "cell_type": "markdown",
   "id": "f93422ac",
   "metadata": {},
   "source": [
    "## 4. Nested IF Statement"
   ]
  },
  {
   "cell_type": "code",
   "execution_count": 9,
   "id": "80e7c2c7",
   "metadata": {},
   "outputs": [
    {
     "name": "stdout",
     "output_type": "stream",
     "text": [
      "Positive number\n"
     ]
    }
   ],
   "source": [
    "num = 8\n",
    "if num >= 0:\n",
    "    if num == 0:\n",
    "        print(\"zero\")\n",
    "    else:\n",
    "        print(\"Positive number\")\n",
    "else:\n",
    "    print(\"Negative number\")"
   ]
  },
  {
   "cell_type": "code",
   "execution_count": 10,
   "id": "21ec0660",
   "metadata": {},
   "outputs": [
    {
     "name": "stdout",
     "output_type": "stream",
     "text": [
      "The amount is between 400 and 1000\n"
     ]
    }
   ],
   "source": [
    "price=100\n",
    "quantity=10\n",
    "amount = price*quantity\n",
    "if amount > 200:\n",
    "    if amount >1000:\n",
    "        print(\"The amount is greater than 1000\")\n",
    "    else:\n",
    "        if amount < 800:\n",
    "            print(\"The amount is between 800 and 1000\")\n",
    "        elif amount < 600:\n",
    "            print(\"The amount is between 600 and 1000\")\n",
    "        else:\n",
    "            print(\"The amount is between 400 and 1000\")\n",
    "elif amount == 200:\n",
    "    print(\"Amount is 200\")\n",
    "else:\n",
    "    print(\"Amount is less than 200\")"
   ]
  },
  {
   "cell_type": "markdown",
   "id": "ca1548b9",
   "metadata": {},
   "source": [
    "## 5. Short Hand if statement"
   ]
  },
  {
   "cell_type": "code",
   "execution_count": 11,
   "id": "963f32de",
   "metadata": {},
   "outputs": [
    {
     "name": "stdout",
     "output_type": "stream",
     "text": [
      "i is greater than 11\n"
     ]
    }
   ],
   "source": [
    "i=15\n",
    "# One line if statement\n",
    "if i>11 :\n",
    "    print ('i is greater than 11')"
   ]
  },
  {
   "cell_type": "markdown",
   "id": "b310556f",
   "metadata": {},
   "source": [
    "## 6. Short Hand if-else statement"
   ]
  },
  {
   "cell_type": "markdown",
   "id": "4d93f835",
   "metadata": {},
   "source": [
    "#### single line if-else statement"
   ]
  },
  {
   "cell_type": "code",
   "execution_count": 12,
   "id": "8be54c1f",
   "metadata": {},
   "outputs": [
    {
     "name": "stdout",
     "output_type": "stream",
     "text": [
      "B\n"
     ]
    }
   ],
   "source": [
    "a = 3\n",
    "b = 5\n",
    "print(\"A\") if a > b else print(\"B\")"
   ]
  },
  {
   "cell_type": "markdown",
   "id": "fa0c8dcd",
   "metadata": {},
   "source": [
    "#### single line if-else statement, with 3 conditions"
   ]
  },
  {
   "cell_type": "code",
   "execution_count": 13,
   "id": "8e2d333c",
   "metadata": {},
   "outputs": [
    {
     "name": "stdout",
     "output_type": "stream",
     "text": [
      "B is greater\n"
     ]
    }
   ],
   "source": [
    "a = 3\n",
    "b = 5\n",
    "print(\"A is greater\") if a > b else print(\"=\") if a == b else print(\"B is greater\")"
   ]
  },
  {
   "cell_type": "markdown",
   "id": "c01d49f9",
   "metadata": {},
   "source": [
    "## for loops"
   ]
  },
  {
   "cell_type": "code",
   "execution_count": 14,
   "id": "7bb839a5",
   "metadata": {},
   "outputs": [
    {
     "name": "stdout",
     "output_type": "stream",
     "text": [
      "Freddie\n",
      "9\n",
      "True\n",
      "1.1\n",
      "2001\n",
      "['bone', 'little ball']\n"
     ]
    }
   ],
   "source": [
    "dog = ['Freddie', 9, True, 1.1, 2001, ['bone', 'little ball']]\n",
    "for i in dog:\n",
    "    print(i)"
   ]
  },
  {
   "cell_type": "code",
   "execution_count": 15,
   "id": "31998836",
   "metadata": {},
   "outputs": [
    {
     "name": "stdout",
     "output_type": "stream",
     "text": [
      "Freddie\n",
      "9\n",
      "True\n",
      "1.1\n",
      "2001\n",
      "['bone', 'little ball']\n"
     ]
    }
   ],
   "source": [
    "for i in dog:\n",
    "    print(i)"
   ]
  },
  {
   "cell_type": "code",
   "execution_count": 16,
   "id": "95b06eae",
   "metadata": {},
   "outputs": [
    {
     "name": "stdout",
     "output_type": "stream",
     "text": [
      "1\n",
      "25\n",
      "144\n",
      "8281\n",
      "10404\n"
     ]
    }
   ],
   "source": [
    "numbers = [1, 5, 12, 91, 102]\n",
    "for i in numbers:\n",
    "    print (i * i)"
   ]
  },
  {
   "cell_type": "markdown",
   "id": "5be6c169",
   "metadata": {},
   "source": [
    "## Iterating through strings"
   ]
  },
  {
   "cell_type": "code",
   "execution_count": 18,
   "id": "ba39344f",
   "metadata": {},
   "outputs": [
    {
     "name": "stdout",
     "output_type": "stream",
     "text": [
      "H\n",
      "e\n",
      "l\n",
      "l\n",
      "o\n",
      " \n",
      "W\n",
      "o\n",
      "r\n",
      "l\n",
      "d\n"
     ]
    }
   ],
   "source": [
    "my_list = \"Hello World\"\n",
    "for i in my_list:\n",
    "    print(i)"
   ]
  },
  {
   "cell_type": "markdown",
   "id": "1bf46d3f",
   "metadata": {},
   "source": [
    "## Iterating through range () objects"
   ]
  },
  {
   "cell_type": "code",
   "execution_count": 20,
   "id": "0c708591",
   "metadata": {
    "scrolled": true
   },
   "outputs": [
    {
     "name": "stdout",
     "output_type": "stream",
     "text": [
      "0\n",
      "1\n",
      "2\n",
      "3\n",
      "4\n",
      "5\n",
      "6\n",
      "7\n",
      "8\n",
      "9\n"
     ]
    }
   ],
   "source": [
    "my_list = range(10)\n",
    "for i in my_list:\n",
    "    print(i)"
   ]
  },
  {
   "cell_type": "code",
   "execution_count": 21,
   "id": "8b354c0a",
   "metadata": {},
   "outputs": [
    {
     "name": "stdout",
     "output_type": "stream",
     "text": [
      "0\n",
      "2\n",
      "4\n",
      "6\n",
      "8\n"
     ]
    }
   ],
   "source": [
    "my_list = range(0,10,2)\n",
    "for i in my_list:\n",
    "    print(i)"
   ]
  },
  {
   "cell_type": "code",
   "execution_count": 22,
   "id": "4688d035",
   "metadata": {},
   "outputs": [
    {
     "name": "stdout",
     "output_type": "stream",
     "text": [
      "1\n",
      "27\n",
      "125\n",
      "343\n",
      "729\n"
     ]
    }
   ],
   "source": [
    "my_list = range(1,10,2)\n",
    "for i in my_list:\n",
    "    print(i * i * i)"
   ]
  },
  {
   "cell_type": "code",
   "execution_count": 23,
   "id": "b84d7a50",
   "metadata": {},
   "outputs": [
    {
     "name": "stdout",
     "output_type": "stream",
     "text": [
      "0 1\n",
      "1 25\n",
      "2 144\n",
      "3 8281\n",
      "4 10404\n"
     ]
    }
   ],
   "source": [
    "my_list = [1, 5, 12, 91, 102]\n",
    "my_list_length = len(my_list)\n",
    "for i in range(0,my_list_length):\n",
    "    print(i, my_list[i] * my_list[i])"
   ]
  },
  {
   "cell_type": "markdown",
   "id": "666eefe3",
   "metadata": {},
   "source": [
    "## For loop within a for loop – Nested for loop"
   ]
  },
  {
   "cell_type": "code",
   "execution_count": 24,
   "id": "46bd5a98",
   "metadata": {},
   "outputs": [],
   "source": [
    "my_movies = [['How I Met Your Mother', 'Friends', 'Silicon Valley'],\n",
    "            ['Family Guy', 'South Park', 'Rick and Morty'],\n",
    "            ['Breaking Bad', 'Game of Thrones', 'The Wire']]"
   ]
  },
  {
   "cell_type": "code",
   "execution_count": 25,
   "id": "0e7c214f",
   "metadata": {
    "scrolled": true
   },
   "outputs": [
    {
     "name": "stdout",
     "output_type": "stream",
     "text": [
      "The title How I Met Your Mother is 21 characters long.\n",
      "The title Friends is 7 characters long.\n",
      "The title Silicon Valley is 14 characters long.\n",
      "The title Family Guy is 10 characters long.\n",
      "The title South Park is 10 characters long.\n",
      "The title Rick and Morty is 14 characters long.\n",
      "The title Breaking Bad is 12 characters long.\n",
      "The title Game of Thrones is 15 characters long.\n",
      "The title The Wire is 8 characters long.\n"
     ]
    }
   ],
   "source": [
    "for sublist in my_movies:\n",
    "    for movie_name in sublist:\n",
    "        char_num = len(movie_name)\n",
    "        print(\"The title \" + movie_name + \" is \" + str(char_num) + \" characters long.\")"
   ]
  },
  {
   "cell_type": "code",
   "execution_count": 26,
   "id": "98657847",
   "metadata": {},
   "outputs": [
    {
     "name": "stdout",
     "output_type": "stream",
     "text": [
      "The title The Wire is 8 characters long.\n"
     ]
    }
   ],
   "source": [
    "for sublist in my_movies:\n",
    "    for movie_name in sublist:\n",
    "        char_num = len(movie_name)\n",
    "print(\"The title \" + movie_name + \" is \" + str(char_num) + \" characters long.\")"
   ]
  },
  {
   "cell_type": "code",
   "execution_count": 27,
   "id": "4824c8a7",
   "metadata": {},
   "outputs": [
    {
     "name": "stdout",
     "output_type": "stream",
     "text": [
      "The title How I Met Your Mother is 21 characters long.\n",
      "The title Friends is 7 characters long.\n",
      "The title Silicon Valley is 14 characters long.\n",
      "The title Family Guy is 10 characters long.\n",
      "The title South Park is 10 characters long.\n",
      "The title Rick and Morty is 14 characters long.\n",
      "The title Breaking Bad is 12 characters long.\n",
      "The title Game of Thrones is 15 characters long.\n",
      "The title The Wire is 8 characters long.\n"
     ]
    }
   ],
   "source": [
    "for sublist in my_movies:\n",
    "    for movie_name in sublist:\n",
    "        char_num = len(movie_name)\n",
    "        print(\"The title \" + movie_name + \" is \" + str(char_num) + \" characters long.\")"
   ]
  },
  {
   "cell_type": "code",
   "execution_count": 28,
   "id": "44f24740",
   "metadata": {},
   "outputs": [
    {
     "name": "stdout",
     "output_type": "stream",
     "text": [
      "The title Silicon Valley is 14 characters long.\n",
      "The title Rick and Morty is 14 characters long.\n",
      "The title The Wire is 8 characters long.\n"
     ]
    }
   ],
   "source": [
    "for sublist in my_movies:\n",
    "    for movie_name in sublist:\n",
    "        char_num = len(movie_name)\n",
    "    print(\"The title \" + movie_name + \" is \" + str(char_num) + \" characters long.\")"
   ]
  },
  {
   "cell_type": "markdown",
   "id": "fb05f995",
   "metadata": {},
   "source": [
    "## If statement within a for loop"
   ]
  },
  {
   "cell_type": "code",
   "execution_count": 29,
   "id": "eb9f9454",
   "metadata": {},
   "outputs": [
    {
     "name": "stdout",
     "output_type": "stream",
     "text": [
      "fizzbuzz\n",
      "-\n",
      "-\n",
      "fizz\n",
      "-\n",
      "buzz\n",
      "fizz\n",
      "-\n",
      "-\n",
      "fizz\n",
      "buzz\n",
      "-\n",
      "fizz\n",
      "-\n",
      "-\n",
      "fizzbuzz\n",
      "-\n",
      "-\n",
      "fizz\n",
      "-\n"
     ]
    }
   ],
   "source": [
    "for i in range (20):\n",
    "    if i % 3 == 0 and i % 5 == 0:\n",
    "        print('fizzbuzz')\n",
    "    elif i % 3 == 0:\n",
    "        print('fizz')\n",
    "    elif i % 5 == 0:\n",
    "        print('buzz')\n",
    "    else:\n",
    "        print ('-')"
   ]
  },
  {
   "cell_type": "markdown",
   "id": "b90d95ed",
   "metadata": {},
   "source": [
    "## Break"
   ]
  },
  {
   "cell_type": "code",
   "execution_count": 30,
   "id": "630003ee",
   "metadata": {},
   "outputs": [
    {
     "name": "stdout",
     "output_type": "stream",
     "text": [
      "1000100\n"
     ]
    }
   ],
   "source": [
    "for i in range(0, 10000000, 137):\n",
    "    if len(str(i)) == 7:\n",
    "        print(i)\n",
    "        break"
   ]
  },
  {
   "cell_type": "markdown",
   "id": "797f8b0b",
   "metadata": {},
   "source": [
    "## 1 Line Breaks Matter:\n",
    "### implicit line joining example"
   ]
  },
  {
   "cell_type": "code",
   "execution_count": 31,
   "id": "31592604",
   "metadata": {},
   "outputs": [],
   "source": [
    "my_movies = ['How I Met Your Mother',\n",
    "             'Friends',\n",
    "             'Silicon Valley', \n",
    "             'Family Guy',\n",
    "             'South Park']"
   ]
  },
  {
   "cell_type": "markdown",
   "id": "fa7cb679",
   "metadata": {},
   "source": [
    "### one line – more statements"
   ]
  },
  {
   "cell_type": "code",
   "execution_count": 32,
   "id": "ca9c6677",
   "metadata": {},
   "outputs": [
    {
     "name": "stdout",
     "output_type": "stream",
     "text": [
      "Hi\n",
      "Hello\n",
      "How are you\n"
     ]
    }
   ],
   "source": [
    "print('Hi');print('Hello');print('How are you')"
   ]
  },
  {
   "cell_type": "markdown",
   "id": "55ff304e",
   "metadata": {},
   "source": [
    "### one statement in more lines — print(‘Hello’)"
   ]
  },
  {
   "cell_type": "code",
   "execution_count": 33,
   "id": "c0a6c6c7",
   "metadata": {},
   "outputs": [
    {
     "data": {
      "text/plain": [
       "'How are you Im very good '"
      ]
     },
     "execution_count": 33,
     "metadata": {},
     "output_type": "execute_result"
    }
   ],
   "source": [
    "print\n",
    "('How \\\n",
    "are you\\\n",
    " Im very good ')"
   ]
  },
  {
   "cell_type": "markdown",
   "id": "18fb55dc",
   "metadata": {},
   "source": [
    "## 2 Indentations Matter"
   ]
  },
  {
   "cell_type": "code",
   "execution_count": 34,
   "id": "3f5908d9",
   "metadata": {},
   "outputs": [
    {
     "name": "stdout",
     "output_type": "stream",
     "text": [
      "Are you 50.0 years old?correct\n",
      "Nice\n"
     ]
    }
   ],
   "source": [
    "down = 0\n",
    "up = 100\n",
    "for i in range (1,10):\n",
    "    guessed_age = int(up+down)/2\n",
    "    answer = input('Are you '+str(guessed_age)+' years old?')\n",
    "    if answer == 'correct' :\n",
    "        print('Nice')\n",
    "        break\n",
    "    elif answer == 'less':\n",
    "        up = guessed_age\n",
    "    elif answer == 'more':\n",
    "        down = guessed_age\n",
    "    else:\n",
    "        print('wrong answer')"
   ]
  },
  {
   "cell_type": "code",
   "execution_count": 35,
   "id": "a084b387",
   "metadata": {},
   "outputs": [
    {
     "name": "stdout",
     "output_type": "stream",
     "text": [
      "0\n",
      "2\n",
      "4\n",
      "6\n",
      "8\n"
     ]
    }
   ],
   "source": [
    "# This is a comment before my for loop.\n",
    "for i in range(0, 10, 2):\n",
    "    print(i)"
   ]
  },
  {
   "cell_type": "code",
   "execution_count": 36,
   "id": "f25eca94",
   "metadata": {},
   "outputs": [],
   "source": [
    "my_meaningful_variable = 100 "
   ]
  },
  {
   "cell_type": "code",
   "execution_count": 37,
   "id": "5733a30a",
   "metadata": {},
   "outputs": [
    {
     "name": "stdout",
     "output_type": "stream",
     "text": [
      "Are you 50.0 years old?correct\n",
      "Nice\n"
     ]
    }
   ],
   "source": [
    "down = 0\n",
    "up = 100\n",
    "\n",
    "for i in range (1,10):\n",
    "    guessed_age = int(up+down)/2\n",
    "    answer = input('Are you '+str(guessed_age)+' years old?')\n",
    "    \n",
    "    if answer == 'correct' :\n",
    "        print('Nice')\n",
    "        break\n",
    "    elif answer == 'less':\n",
    "        up = guessed_age\n",
    "    elif answer == 'more':\n",
    "        down = guessed_age\n",
    "    else:\n",
    "        print('wrong answer')"
   ]
  },
  {
   "cell_type": "code",
   "execution_count": 38,
   "id": "5f5eec65",
   "metadata": {},
   "outputs": [
    {
     "data": {
      "text/plain": [
       "1000"
      ]
     },
     "execution_count": 38,
     "metadata": {},
     "output_type": "execute_result"
    }
   ],
   "source": [
    "number_x = 10\n",
    "number_y = 100\n",
    "number_mult = number_x * number_y\n",
    "number_mult"
   ]
  },
  {
   "cell_type": "code",
   "execution_count": 39,
   "id": "1c87003b",
   "metadata": {},
   "outputs": [
    {
     "name": "stdout",
     "output_type": "stream",
     "text": [
      "The Zen of Python, by Tim Peters\n",
      "\n",
      "Beautiful is better than ugly.\n",
      "Explicit is better than implicit.\n",
      "Simple is better than complex.\n",
      "Complex is better than complicated.\n",
      "Flat is better than nested.\n",
      "Sparse is better than dense.\n",
      "Readability counts.\n",
      "Special cases aren't special enough to break the rules.\n",
      "Although practicality beats purity.\n",
      "Errors should never pass silently.\n",
      "Unless explicitly silenced.\n",
      "In the face of ambiguity, refuse the temptation to guess.\n",
      "There should be one-- and preferably only one --obvious way to do it.\n",
      "Although that way may not be obvious at first unless you're Dutch.\n",
      "Now is better than never.\n",
      "Although never is often better than *right* now.\n",
      "If the implementation is hard to explain, it's a bad idea.\n",
      "If the implementation is easy to explain, it may be a good idea.\n",
      "Namespaces are one honking great idea -- let's do more of those!\n"
     ]
    }
   ],
   "source": [
    "import this"
   ]
  },
  {
   "cell_type": "code",
   "execution_count": null,
   "id": "e1b8030c",
   "metadata": {},
   "outputs": [],
   "source": [
    "for i in <collection>:\n",
    "    <loop body>"
   ]
  },
  {
   "cell_type": "code",
   "execution_count": 40,
   "id": "82dc0fed",
   "metadata": {
    "scrolled": true
   },
   "outputs": [
    {
     "name": "stdout",
     "output_type": "stream",
     "text": [
      "0\n",
      "1\n",
      "2\n",
      "3\n",
      "4\n",
      "5\n",
      "6\n",
      "7\n",
      "8\n",
      "9\n"
     ]
    }
   ],
   "source": [
    "for i in range(10):  # collection of numbers from 0 to 9\n",
    "    print(i)"
   ]
  },
  {
   "cell_type": "code",
   "execution_count": 41,
   "id": "ea7ddbdc",
   "metadata": {
    "scrolled": true
   },
   "outputs": [
    {
     "name": "stdout",
     "output_type": "stream",
     "text": [
      "0\n",
      "2\n",
      "4\n",
      "6\n",
      "8\n"
     ]
    }
   ],
   "source": [
    "for i in range(10):  # numbers from 0-9\n",
    "    if i % 2 == 0:  # is divsible by 2? (even number)\n",
    "        print(i) # then print."
   ]
  },
  {
   "cell_type": "code",
   "execution_count": 42,
   "id": "c60e9fc5",
   "metadata": {},
   "outputs": [
    {
     "name": "stdout",
     "output_type": "stream",
     "text": [
      "Bill Gates\n",
      "Steve Jobs\n",
      "Mark Zuckerberg\n"
     ]
    }
   ],
   "source": [
    "names = [\"Bill Gates\", \"Steve Jobs\", \"Mark Zuckerberg\"] # create our list\n",
    "for name in names:  # load our list of names and iterate through them\n",
    "    print(name)"
   ]
  },
  {
   "cell_type": "code",
   "execution_count": 43,
   "id": "01c879f6",
   "metadata": {},
   "outputs": [
    {
     "name": "stdout",
     "output_type": "stream",
     "text": [
      "Bill Gates\n",
      "Billie Eilish\n"
     ]
    }
   ],
   "source": [
    "names = [\"Bill Gates\", \"Billie Eilish\", \"Mark Zuckerberg\"]  # create our list\n",
    "for name in names:  # load our list of names and iterate through them\n",
    "    if \"B\" in name:  # does the name include 'B'?\n",
    "        print(name)"
   ]
  },
  {
   "cell_type": "code",
   "execution_count": 44,
   "id": "c7548533",
   "metadata": {},
   "outputs": [
    {
     "name": "stdout",
     "output_type": "stream",
     "text": [
      "['Bill Gates', 'Billie Eilish']\n"
     ]
    }
   ],
   "source": [
    "names = [\"Bill Gates\", \"Billie Eilish\", \"Mark Zuckerberg\", \"Ratan TATA\"]\n",
    "namesWithB = []\n",
    "for name in names:\n",
    "    if \"B\" in name: \n",
    "        namesWithB.append(name) # add this element to this array.\n",
    "print(namesWithB)"
   ]
  },
  {
   "cell_type": "code",
   "execution_count": null,
   "id": "b1d913c4",
   "metadata": {},
   "outputs": [],
   "source": [
    "newlist = [<expression> for <loop variable> in <list> (if condition)]"
   ]
  },
  {
   "cell_type": "code",
   "execution_count": 45,
   "id": "097ac03c",
   "metadata": {},
   "outputs": [
    {
     "name": "stdout",
     "output_type": "stream",
     "text": [
      "['Bill Gates', 'Billie Eilish']\n"
     ]
    }
   ],
   "source": [
    "names = [\"Bill Gates\", \"Billie Eilish\", \"Mark Zuckerberg\", \"Ratan TATA\"]\n",
    "namesWithB = [name for name in names if \"B\" in name]\n",
    "print(namesWithB)"
   ]
  },
  {
   "cell_type": "code",
   "execution_count": 46,
   "id": "0d7f2fd2",
   "metadata": {
    "scrolled": true
   },
   "outputs": [
    {
     "name": "stdout",
     "output_type": "stream",
     "text": [
      "[0, 1, 2, 3, 4, 5, 6, 7, 8, 9]\n"
     ]
    }
   ],
   "source": [
    "numbers = [i for i in range(10)]\n",
    "print(numbers)"
   ]
  },
  {
   "cell_type": "code",
   "execution_count": 47,
   "id": "a6669982",
   "metadata": {
    "scrolled": true
   },
   "outputs": [
    {
     "name": "stdout",
     "output_type": "stream",
     "text": [
      "[0, 2, 4, 6, 8]\n"
     ]
    }
   ],
   "source": [
    "numbers = [i for i in range(0,10,2)]\n",
    "print(numbers)"
   ]
  },
  {
   "cell_type": "code",
   "execution_count": null,
   "id": "7ea16788",
   "metadata": {},
   "outputs": [],
   "source": [
    "while <condition>:\n",
    "    <loop body>"
   ]
  },
  {
   "cell_type": "code",
   "execution_count": 48,
   "id": "210dc3fb",
   "metadata": {},
   "outputs": [
    {
     "name": "stdout",
     "output_type": "stream",
     "text": [
      "0\n",
      "1\n",
      "2\n",
      "3\n",
      "4\n",
      "5\n",
      "6\n",
      "7\n",
      "8\n",
      "9\n"
     ]
    }
   ],
   "source": [
    "n = 0\n",
    "while n < 10: # while n is less than 10,\n",
    "    print(n) # print out the value of n \n",
    "    n += 1"
   ]
  },
  {
   "cell_type": "code",
   "execution_count": 49,
   "id": "b35b21ea",
   "metadata": {},
   "outputs": [
    {
     "name": "stdout",
     "output_type": "stream",
     "text": [
      "0\n",
      "5\n",
      "10\n",
      "6\n",
      "3\n"
     ]
    }
   ],
   "source": [
    "numbers = [0, 5, 10, 6, 3]\n",
    "length = len(numbers) # get length of array. \n",
    "n = 0\n",
    "while n < length: # loop condition\n",
    "    print(numbers[n])\n",
    "    n += 1"
   ]
  },
  {
   "cell_type": "code",
   "execution_count": 50,
   "id": "145c3af0",
   "metadata": {},
   "outputs": [
    {
     "name": "stdout",
     "output_type": "stream",
     "text": [
      "Bill Gates\n",
      "Billie Eilish\n",
      "loop exit here.\n",
      "Out of the loop\n"
     ]
    }
   ],
   "source": [
    "names = [\"Bill Gates\", \"Billie Eilish\", \"Mark Zuckerberg\", \"Ratan TATA\"]\n",
    "for name in names:\n",
    "    if name == \"Mark Zuckerberg\":  \n",
    "        print(\"loop exit here.\")\n",
    "        break  # end this loop if condition is true.\n",
    "    print(name)\n",
    "print(\"Out of the loop\")"
   ]
  },
  {
   "cell_type": "code",
   "execution_count": 51,
   "id": "17678474",
   "metadata": {},
   "outputs": [
    {
     "name": "stdout",
     "output_type": "stream",
     "text": [
      "Bill Gates\n",
      "Billie Eilish\n",
      "Skipping this iteration.\n",
      "Ratan TATA\n",
      "Out of the loop\n"
     ]
    }
   ],
   "source": [
    "names = [\"Bill Gates\", \"Billie Eilish\", \"Mark Zuckerberg\", \"Ratan TATA\"]  \n",
    "for name in names:\n",
    "    if name == \"Mark Zuckerberg\":\n",
    "        print(\"Skipping this iteration.\")\n",
    "        continue  # Skip iteration if true.\n",
    "    print(name)\n",
    "print(\"Out of the loop\")"
   ]
  },
  {
   "cell_type": "code",
   "execution_count": 52,
   "id": "047185ec",
   "metadata": {},
   "outputs": [
    {
     "name": "stdout",
     "output_type": "stream",
     "text": [
      "Bill Gates\n",
      "Billie Eilish\n",
      "Just passing by...\n",
      "Mark Zuckerberg\n",
      "Ratan TATA\n",
      "Out of the loop\n"
     ]
    }
   ],
   "source": [
    "names = [\"Bill Gates\", \"Billie Eilish\", \"Mark Zuckerberg\", \"Ratan TATA\"]\n",
    "for name in names:\n",
    "    if name == \"Mark Zuckerberg\":\n",
    "        print(\"Just passing by...\")\n",
    "        pass  # Move on with this iteration\n",
    "    print(name)\n",
    "print(\"Out of the loop\")"
   ]
  },
  {
   "cell_type": "code",
   "execution_count": null,
   "id": "27af1f13",
   "metadata": {},
   "outputs": [],
   "source": [
    "# for 'for' loops\n",
    "for i in <collection>: \n",
    "    <loop body>\n",
    "else: \n",
    "    <code block> # will run when loop halts.\n",
    "# for 'while' loops\n",
    "while <condition>:\n",
    "    <loop body>\n",
    "else:\n",
    "    <code block> # will run when loop halts"
   ]
  },
  {
   "cell_type": "code",
   "execution_count": 53,
   "id": "0d4ddb55",
   "metadata": {},
   "outputs": [
    {
     "name": "stdout",
     "output_type": "stream",
     "text": [
      "Else won't run here.\n",
      "Bill Gates\n",
      "Billie Eilish\n",
      "Loop halted due to break\n",
      "\n",
      "Else statement will run here:\n",
      "Bill Gates\n",
      "Billie Eilish\n",
      "Mark Zuckerberg\n",
      "Ratan TATA\n",
      "second Loop has finished\n"
     ]
    }
   ],
   "source": [
    "names = [\"Bill Gates\", \"Billie Eilish\", \"Mark Zuckerberg\", \"Ratan TATA\"]\n",
    "print(\"Else won't run here.\")\n",
    "for name in names:\n",
    "    if name == \"Mark Zuckerberg\":\n",
    "        print(\"Loop halted due to break\")\n",
    "        break  # Halt this loop\n",
    "    print(name)\n",
    "else: # this won't work because 'break' was used. \n",
    "    print(\"Loop has finished\")\n",
    "\n",
    "print(\"\\nElse statement will run here:\")\n",
    "for name in names: \n",
    "    print(name)\n",
    "else: # will work because of no 'break' statement\n",
    "    print(\"second Loop has finished\")"
   ]
  },
  {
   "cell_type": "markdown",
   "id": "4d3b64dd",
   "metadata": {},
   "source": [
    "# The End!!!"
   ]
  }
 ],
 "metadata": {
  "kernelspec": {
   "display_name": "Python 3 (ipykernel)",
   "language": "python",
   "name": "python3"
  },
  "language_info": {
   "codemirror_mode": {
    "name": "ipython",
    "version": 3
   },
   "file_extension": ".py",
   "mimetype": "text/x-python",
   "name": "python",
   "nbconvert_exporter": "python",
   "pygments_lexer": "ipython3",
   "version": "3.9.12"
  }
 },
 "nbformat": 4,
 "nbformat_minor": 5
}
