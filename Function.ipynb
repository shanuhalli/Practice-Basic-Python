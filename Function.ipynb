{
 "cells": [
  {
   "cell_type": "markdown",
   "id": "276f393d",
   "metadata": {},
   "source": [
    "## Function with arguments"
   ]
  },
  {
   "cell_type": "code",
   "execution_count": 1,
   "id": "53e14d49",
   "metadata": {},
   "outputs": [
    {
     "name": "stdout",
     "output_type": "stream",
     "text": [
      "Enter the first number: 15\n",
      "Enter the second number; 15\n",
      "30\n"
     ]
    }
   ],
   "source": [
    "def add(a,b): #Defining the function\n",
    "    c = a+b\n",
    "    print(c)\n",
    "    \n",
    "    \n",
    "n = int(input(\"Enter the first number: \"))\n",
    "m = int(input(\"Enter the second number; \"))\n",
    "add(n,m) #Calling the function"
   ]
  },
  {
   "cell_type": "markdown",
   "id": "537f6b9a",
   "metadata": {},
   "source": [
    "## Function without arguments"
   ]
  },
  {
   "cell_type": "code",
   "execution_count": 2,
   "id": "1b101665",
   "metadata": {},
   "outputs": [],
   "source": [
    "def login():\n",
    "    count = 5\n",
    "    while True:\n",
    "        user = input(\"Enter the username: \")\n",
    "\n",
    "        if user==\"john\":\n",
    "            password = input(\"Enter the password: \")\n",
    "            if password ==\"john123\":\n",
    "                print(\"Login successfully!!!\")\n",
    "                break\n",
    "\n",
    "            elif count == 1:\n",
    "                print(\"Your account is blocked for 24hrs\")\n",
    "                break\n",
    "            else:\n",
    "                count= count-1\n",
    "                print(\"Password is wrong, and remaining attempt is: \",count)\n",
    "\n",
    "        elif count ==1:\n",
    "            print(\"Your account is blocked for 24hrs\")\n",
    "            break\n",
    "        else:\n",
    "            count = count-1\n",
    "            print(\"Username is wrong, and remaining attempt is: \",count)"
   ]
  },
  {
   "cell_type": "code",
   "execution_count": 3,
   "id": "60e2c65a",
   "metadata": {},
   "outputs": [
    {
     "name": "stdout",
     "output_type": "stream",
     "text": [
      "Enter the username: john\n",
      "Enter the password: john123\n",
      "Login successfully!!!\n"
     ]
    }
   ],
   "source": [
    "login()"
   ]
  },
  {
   "cell_type": "markdown",
   "id": "6c9df9a0",
   "metadata": {},
   "source": [
    "## 1. Inbuild function\n",
    "\n",
    "https://docs.python.org/3/library/functions.html"
   ]
  },
  {
   "cell_type": "markdown",
   "id": "31f5428b",
   "metadata": {},
   "source": [
    "## 2. User Defined function"
   ]
  },
  {
   "cell_type": "raw",
   "id": "48c22ea6",
   "metadata": {},
   "source": [
    "login(), add(), sub(), mul()"
   ]
  },
  {
   "cell_type": "markdown",
   "id": "9b60b136",
   "metadata": {},
   "source": [
    "## Scope Of Variable"
   ]
  },
  {
   "cell_type": "code",
   "execution_count": 4,
   "id": "1eaf2e60",
   "metadata": {},
   "outputs": [
    {
     "name": "stdout",
     "output_type": "stream",
     "text": [
      "12\n"
     ]
    }
   ],
   "source": [
    "m = 17 #Global variable: can be access outside and inside of the function\n",
    "def add(a,b):\n",
    "    c = a+b #Local variable: local variable can't be accessable outside of the function\n",
    "    print(c)\n",
    "    \n",
    "add(5,7)"
   ]
  },
  {
   "cell_type": "code",
   "execution_count": 5,
   "id": "d9137eb2",
   "metadata": {},
   "outputs": [
    {
     "name": "stdout",
     "output_type": "stream",
     "text": [
      "11\n"
     ]
    }
   ],
   "source": [
    "def add(a,b): #Defining the function\n",
    "    c = a+b\n",
    "    print(c)\n",
    "    \n",
    "add(4,7) #Calling the function\n",
    "\n",
    "#1->5->1->2->3"
   ]
  },
  {
   "cell_type": "code",
   "execution_count": 6,
   "id": "1c800310",
   "metadata": {
    "scrolled": true
   },
   "outputs": [
    {
     "name": "stdout",
     "output_type": "stream",
     "text": [
      "Outside:  17\n"
     ]
    }
   ],
   "source": [
    "print(\"Outside: \",m)"
   ]
  },
  {
   "cell_type": "markdown",
   "id": "a363a9c7",
   "metadata": {},
   "source": [
    "## Return statement"
   ]
  },
  {
   "cell_type": "code",
   "execution_count": 7,
   "id": "5ee89da7",
   "metadata": {},
   "outputs": [
    {
     "name": "stdout",
     "output_type": "stream",
     "text": [
      "Number of element is:  7\n"
     ]
    }
   ],
   "source": [
    "lst = [3,4,5,6,7,8,5]\n",
    "\n",
    "z = len(lst)\n",
    "\n",
    "print(\"Number of element is: \",z)"
   ]
  },
  {
   "cell_type": "code",
   "execution_count": 8,
   "id": "bbe753af",
   "metadata": {},
   "outputs": [
    {
     "name": "stdout",
     "output_type": "stream",
     "text": [
      "11\n",
      "Addition of two number:  None\n"
     ]
    }
   ],
   "source": [
    "def add(a,b):\n",
    "    c = a+b\n",
    "    print(c)\n",
    "    \n",
    "q = add(5,6)\n",
    "print(\"Addition of two number: \",q)"
   ]
  },
  {
   "cell_type": "code",
   "execution_count": 9,
   "id": "64a9e255",
   "metadata": {},
   "outputs": [
    {
     "name": "stdout",
     "output_type": "stream",
     "text": [
      "Addition of two number:  11\n"
     ]
    }
   ],
   "source": [
    "def add(a,b):\n",
    "    c = a+b\n",
    "    return(c)\n",
    "\n",
    "    \n",
    "q = add(5,6)\n",
    "print(\"Addition of two number: \",q)"
   ]
  },
  {
   "cell_type": "markdown",
   "id": "5dfb561a",
   "metadata": {},
   "source": [
    "## 3. Recurssion function\n",
    "A function call itself."
   ]
  },
  {
   "cell_type": "code",
   "execution_count": 10,
   "id": "fb9ad5c1",
   "metadata": {},
   "outputs": [
    {
     "name": "stdout",
     "output_type": "stream",
     "text": [
      "Hey everyone 10\n",
      "Hey everyone 9\n",
      "Hey everyone 8\n",
      "Hey everyone 7\n",
      "Hey everyone 6\n",
      "Hey everyone 5\n",
      "Hey everyone 4\n",
      "Hey everyone 3\n",
      "Hey everyone 2\n",
      "Hey everyone 1\n",
      "Hey everyone 0\n"
     ]
    },
    {
     "data": {
      "text/plain": [
       "'bye'"
      ]
     },
     "execution_count": 10,
     "metadata": {},
     "output_type": "execute_result"
    }
   ],
   "source": [
    "def info(n):\n",
    "    print(\"Hey everyone\",n)\n",
    "    if n ==0:\n",
    "        return \"bye\"\n",
    "    return info(n-1)\n",
    "    \n",
    "info(10)"
   ]
  },
  {
   "cell_type": "code",
   "execution_count": 11,
   "id": "36a4db94",
   "metadata": {},
   "outputs": [
    {
     "data": {
      "text/plain": [
       "5000"
      ]
     },
     "execution_count": 11,
     "metadata": {},
     "output_type": "execute_result"
    }
   ],
   "source": [
    "import sys\n",
    "sys.setrecursionlimit(5000)\n",
    "sys.getrecursionlimit()"
   ]
  },
  {
   "cell_type": "markdown",
   "id": "818f1f6a",
   "metadata": {},
   "source": [
    "## 4. Anonymous function\n",
    "\n",
    "A function without name is called anonymous function which defined with **lambda** keyword\n",
    "\n",
    "lambda arg-1,arg-2:expression"
   ]
  },
  {
   "cell_type": "code",
   "execution_count": 12,
   "id": "2cd87951",
   "metadata": {},
   "outputs": [
    {
     "name": "stdout",
     "output_type": "stream",
     "text": [
      "Addition of two number:  10\n"
     ]
    }
   ],
   "source": [
    "def add(a,b):\n",
    "    c = a+b\n",
    "    return(c)\n",
    "\n",
    "g = add(4,6)\n",
    "print(\"Addition of two number: \",g)"
   ]
  },
  {
   "cell_type": "code",
   "execution_count": 13,
   "id": "d16efa77",
   "metadata": {},
   "outputs": [
    {
     "name": "stdout",
     "output_type": "stream",
     "text": [
      "Addition of two number:  7\n"
     ]
    }
   ],
   "source": [
    "z = lambda a,b:a+b\n",
    "print(\"Addition of two number: \",z(2,5))"
   ]
  },
  {
   "cell_type": "code",
   "execution_count": 14,
   "id": "858b43ec",
   "metadata": {},
   "outputs": [],
   "source": [
    "t = [4,5,3,3,4,5,44,36,3,4,5,16,4,4,6,7,4,6]"
   ]
  },
  {
   "cell_type": "code",
   "execution_count": 15,
   "id": "bcd8e340",
   "metadata": {},
   "outputs": [
    {
     "data": {
      "text/plain": [
       "[4, 4, 44, 36, 4, 16, 4, 4, 4]"
      ]
     },
     "execution_count": 15,
     "metadata": {},
     "output_type": "execute_result"
    }
   ],
   "source": [
    "def great(x):\n",
    "    if x%4==0:\n",
    "        return x\n",
    "    \n",
    "list(filter(great,t))"
   ]
  },
  {
   "cell_type": "code",
   "execution_count": 16,
   "id": "4d45613b",
   "metadata": {
    "scrolled": true
   },
   "outputs": [
    {
     "data": {
      "text/plain": [
       "[4, 4, 44, 36, 4, 16, 4, 4, 4]"
      ]
     },
     "execution_count": 16,
     "metadata": {},
     "output_type": "execute_result"
    }
   ],
   "source": [
    "list(filter(lambda x: x%4==0,t))"
   ]
  },
  {
   "cell_type": "markdown",
   "id": "35bef8f0",
   "metadata": {},
   "source": [
    "# The End!!!"
   ]
  }
 ],
 "metadata": {
  "kernelspec": {
   "display_name": "Python 3 (ipykernel)",
   "language": "python",
   "name": "python3"
  },
  "language_info": {
   "codemirror_mode": {
    "name": "ipython",
    "version": 3
   },
   "file_extension": ".py",
   "mimetype": "text/x-python",
   "name": "python",
   "nbconvert_exporter": "python",
   "pygments_lexer": "ipython3",
   "version": "3.9.12"
  }
 },
 "nbformat": 4,
 "nbformat_minor": 5
}
